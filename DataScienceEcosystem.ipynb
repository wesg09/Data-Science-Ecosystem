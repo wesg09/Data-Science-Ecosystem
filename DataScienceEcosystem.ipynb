{
  "nbformat": 4,
  "nbformat_minor": 0,
  "metadata": {
    "colab": {
      "provenance": []
    },
    "kernelspec": {
      "name": "python3",
      "display_name": "Python 3"
    },
    "language_info": {
      "name": "python"
    }
  },
  "cells": [
    {
      "cell_type": "markdown",
      "source": [
        "<center>\n",
        "    <img src=\"https://cf-courses-data.s3.us.cloud-object-storage.appdomain.cloud/IBMDeveloperSkillsNetwork-DS0105EN-SkillsNetwork/labs/Module2/images/SN_web_lightmode.png\" width=\"300\" alt=\"cognitiveclass.ai logo\">\n",
        "</center>\n"
      ],
      "metadata": {
        "id": "Bb50sTvGbGOo"
      }
    },
    {
      "cell_type": "markdown",
      "source": [
        "# Data Science Tools And ecosystem"
      ],
      "metadata": {
        "id": "jVVnLkuBazRA"
      }
    },
    {
      "cell_type": "markdown",
      "source": [
        "**Objectives:**\n",
        "\n",
        "\n",
        "\n",
        "* Introduction\n",
        "* Popular Data Science Languages\n",
        "* Data science libraries\n",
        "* Data Science tools\n",
        "* Arithmetic expression to mutiply then add integers\n",
        "* Hours to Minutes\n",
        "\n",
        "\n"
      ],
      "metadata": {
        "id": "Bv_3J2urjXuU"
      }
    },
    {
      "cell_type": "markdown",
      "source": [
        "In this notebook, Data Science Tools and Ecosystem are summarized."
      ],
      "metadata": {
        "id": "0_iuq8G0cKO5"
      }
    },
    {
      "cell_type": "markdown",
      "source": [
        "Some of the popular Data Science Languages are:\n",
        "\n",
        "1. Python\n",
        "2. R\n",
        "3. Scala\n",
        "4. Java\n",
        "5. Julia\n",
        "6. Go(Golang)\n",
        "\n",
        "\n",
        "\n"
      ],
      "metadata": {
        "id": "v0mIIwDbc5BO"
      }
    },
    {
      "cell_type": "markdown",
      "source": [
        "Some of the commonly used libraries used by Data Scientists include:\n",
        "1. Numpy\n",
        "2. Pandas\n",
        "3. Keras\n",
        "4. Scikit-Learn\n",
        "5. Seaborn\n",
        "6. Tensorflow\n"
      ],
      "metadata": {
        "id": "FsC9jup6d4tV"
      }
    },
    {
      "cell_type": "markdown",
      "source": [
        "\n",
        "| Data Science Tools |\n",
        "| --- |\n",
        "| Jupyter Notebooks |\n",
        "| R Studio |\n",
        "| Apache Zeppelin |\n",
        "\n",
        "\n",
        "\n",
        "\n"
      ],
      "metadata": {
        "id": "j6WqqNSGezlC"
      }
    },
    {
      "cell_type": "markdown",
      "source": [
        "### Below are a few examples of evaluating arithmetic expressions in Python:\n",
        "1. exp = 2 + 3 * 4\n",
        "2. exp = eval(\"2 + 3 * 4\")\n"
      ],
      "metadata": {
        "id": "RyhjD__ignMt"
      }
    },
    {
      "cell_type": "code",
      "source": [
        "# This a simple arithmetic expression to mutiply then add integers.\n",
        "(3*4)+5"
      ],
      "metadata": {
        "colab": {
          "base_uri": "https://localhost:8080/"
        },
        "id": "w9oC5rCQiIrs",
        "outputId": "d234bf1a-a69a-40a0-d363-12a434cd444b"
      },
      "execution_count": 3,
      "outputs": [
        {
          "output_type": "execute_result",
          "data": {
            "text/plain": [
              "17"
            ]
          },
          "metadata": {},
          "execution_count": 3
        }
      ]
    },
    {
      "cell_type": "code",
      "source": [
        "# This will convert 200 minutes to hours by diving by 60\n",
        "\n",
        "min = 200\n",
        "hrs = 200/60\n",
        "\n",
        "print(\"hours:\",hrs)"
      ],
      "metadata": {
        "colab": {
          "base_uri": "https://localhost:8080/"
        },
        "id": "4k0EtDlAi2hR",
        "outputId": "b0d97c46-7047-4047-9ab5-4fec80a2364b"
      },
      "execution_count": 4,
      "outputs": [
        {
          "output_type": "stream",
          "name": "stdout",
          "text": [
            "hours: 3.3333333333333335\n"
          ]
        }
      ]
    },
    {
      "cell_type": "markdown",
      "source": [
        "## Author\n",
        "Pranav Bharadhwaj"
      ],
      "metadata": {
        "id": "EvZBDsUbkpPh"
      }
    }
  ]
}